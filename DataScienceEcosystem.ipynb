{
 "cells": [
  {
   "cell_type": "markdown",
   "id": "648c16f0-c371-4d7a-aaf5-a88b305fdad5",
   "metadata": {},
   "source": [
    "# Data Science Tools and Ecosystem"
   ]
  },
  {
   "cell_type": "markdown",
   "id": "7847d119-484d-4ab4-949b-09c96060ae90",
   "metadata": {},
   "source": [
    "In this notebook, Data Science Tools and Ecosystem are summarized."
   ]
  },
  {
   "cell_type": "markdown",
   "id": "d6df9868-acd3-405d-b76c-9d6c9f2cc654",
   "metadata": {},
   "source": [
    "**Objectives:**"
   ]
  },
  {
   "cell_type": "markdown",
   "id": "4ad00f94-93a8-4a16-a300-88f1575575c9",
   "metadata": {},
   "source": [
    "List popular languages for Data Science:"
   ]
  },
  {
   "cell_type": "markdown",
   "id": "9bdc8f5a-49e8-4be2-b63f-a5f547b56521",
   "metadata": {},
   "source": [
    "Some of the popular languages that Data Scientists use are:\n",
    "1. Python\n",
    "2. R\n",
    "3. SQL\n",
    "4. Scala\n",
    "5. Java\n",
    "6. C++\n",
    "7. Julia"
   ]
  },
  {
   "cell_type": "markdown",
   "id": "69d9a145-6d2c-4d2f-ad0d-4b11d371c321",
   "metadata": {},
   "source": [
    "Some of the commonly used libraries used by Data Scientists include:\n",
    "1. Pandas\n",
    "2. NumPy\n",
    "3. Matplotlib\n",
    "4. Scikit-learn\n",
    "5. TensorFlow\n",
    "6. Scala\n",
    "7. BigDL\n"
   ]
  },
  {
   "cell_type": "markdown",
   "id": "bd330ead-f9c3-4539-bcae-efab8e674189",
   "metadata": {},
   "source": [
    "Data Science Tools |\n",
    "-------------------|\n",
    "Anaconda |\n",
    "Jupyter Notebooks |\n",
    "RStudio |"
   ]
  },
  {
   "cell_type": "markdown",
   "id": "8c30253e-9bc4-4377-819e-df092f7cccce",
   "metadata": {},
   "source": [
    "### Below are a few examples of evaluating arithmetic expressions in Python: "
   ]
  },
  {
   "cell_type": "code",
   "execution_count": 17,
   "id": "5a8e30d1-7516-4456-b472-e85e6eff6739",
   "metadata": {},
   "outputs": [
    {
     "data": {
      "text/plain": [
       "2"
      ]
     },
     "execution_count": 17,
     "metadata": {},
     "output_type": "execute_result"
    }
   ],
   "source": [
    "# Print an integer\n",
    "# Addition operation\n",
    "1+1\n"
   ]
  },
  {
   "cell_type": "code",
   "execution_count": 19,
   "id": "047e65db-2a8f-4fab-82ed-98e6d1e8624b",
   "metadata": {},
   "outputs": [
    {
     "data": {
      "text/plain": [
       "12"
      ]
     },
     "execution_count": 19,
     "metadata": {},
     "output_type": "execute_result"
    }
   ],
   "source": [
    "# Print an integer\n",
    "# Multiplication operation\n",
    "3*4"
   ]
  },
  {
   "cell_type": "code",
   "execution_count": 21,
   "id": "abfa5011-acf6-4949-a5f5-1a5393495d63",
   "metadata": {},
   "outputs": [
    {
     "data": {
      "text/plain": [
       "17"
      ]
     },
     "execution_count": 21,
     "metadata": {},
     "output_type": "execute_result"
    }
   ],
   "source": [
    "# This a simple arithmetic expression to multiply then add integers \n",
    "(3*4)+5"
   ]
  },
  {
   "cell_type": "code",
   "execution_count": 23,
   "id": "0174e073-597f-4701-8592-84ab45dda334",
   "metadata": {},
   "outputs": [
    {
     "data": {
      "text/plain": [
       "3.3333333333333335"
      ]
     },
     "execution_count": 23,
     "metadata": {},
     "output_type": "execute_result"
    }
   ],
   "source": [
    "# This will convert 200 minutes to hours by dividing by 60\n",
    "200/60"
   ]
  },
  {
   "cell_type": "markdown",
   "id": "2707b1db-a36d-46cc-9d01-0cadddccda5e",
   "metadata": {},
   "source": [
    "## Author"
   ]
  },
  {
   "cell_type": "markdown",
   "id": "2eba17ea-5aaa-473e-9376-39de18abd9d5",
   "metadata": {},
   "source": [
    "Emma South"
   ]
  },
  {
   "cell_type": "code",
   "execution_count": null,
   "id": "883e126e-e2da-4d0d-b002-4b127a359847",
   "metadata": {},
   "outputs": [],
   "source": []
  },
  {
   "cell_type": "code",
   "execution_count": null,
   "id": "abaabf93-e223-4240-bc3e-ce8b8c664b35",
   "metadata": {},
   "outputs": [],
   "source": []
  }
 ],
 "metadata": {
  "kernelspec": {
   "display_name": "anaconda-2024.02-py310",
   "language": "python",
   "name": "conda-env-anaconda-2024.02-py310-py"
  },
  "language_info": {
   "codemirror_mode": {
    "name": "ipython",
    "version": 3
   },
   "file_extension": ".py",
   "mimetype": "text/x-python",
   "name": "python",
   "nbconvert_exporter": "python",
   "pygments_lexer": "ipython3",
   "version": "3.10.14"
  }
 },
 "nbformat": 4,
 "nbformat_minor": 5
}
